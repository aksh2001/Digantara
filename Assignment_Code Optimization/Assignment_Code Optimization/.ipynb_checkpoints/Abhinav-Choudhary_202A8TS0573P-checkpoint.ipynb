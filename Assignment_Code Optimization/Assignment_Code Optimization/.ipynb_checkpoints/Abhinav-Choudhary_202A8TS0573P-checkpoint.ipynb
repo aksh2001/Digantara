{
 "cells": [
  {
   "cell_type": "code",
   "execution_count": 29,
   "id": "8f21248f-41ed-48fe-8d26-6f4aa4026297",
   "metadata": {},
   "outputs": [
    {
     "name": "stdout",
     "output_type": "stream",
     "text": [
      "Defaulting to user installation because normal site-packages is not writeable\n",
      "Requirement already satisfied: pip in c:\\users\\abhinav\\appdata\\roaming\\python\\python312\\site-packages (24.0)\n",
      "Defaulting to user installation because normal site-packages is not writeable\n",
      "Requirement already satisfied: sgp4 in c:\\users\\abhinav\\appdata\\roaming\\python\\python312\\site-packages (2.23)\n"
     ]
    }
   ],
   "source": [
    "!python.exe -m pip install --upgrade pip\n",
    "!pip install sgp4"
   ]
  },
  {
   "cell_type": "code",
   "execution_count": 30,
   "id": "dd86543f-d815-4914-9231-9fec34c95037",
   "metadata": {},
   "outputs": [],
   "source": [
    "import datetime\n",
    "import numpy as np\n",
    "import pandas as pd\n",
    "from sgp4.api import Satrec\n",
    "from sgp4.api import jday"
   ]
  },
  {
   "cell_type": "code",
   "execution_count": 31,
   "id": "d918e6a5-c1d3-4050-b294-70f0747e0f51",
   "metadata": {},
   "outputs": [
    {
     "name": "stdout",
     "output_type": "stream",
     "text": [
      "                        name  \\\n",
      "0   ISS (ZARYA)                \n",
      "1   AEROCUBE 12A               \n",
      "2   AEROCUBE 12B               \n",
      "3   ICS-EF (ISS DEB)           \n",
      "4   ISS DEB                    \n",
      "5   MMSATS-1                   \n",
      "6   CSS (TIANHE)               \n",
      "7   ISS (NAUKA)                \n",
      "8   FREGAT DEB                 \n",
      "9   KITSUNE                    \n",
      "10  CSS (WENTIAN)              \n",
      "11  HSU-SAT1                   \n",
      "12  D3                         \n",
      "13  BEAVERCUBE                 \n",
      "14  CLICK-A                    \n",
      "15  ISS DEB                    \n",
      "16  SOYUZ-MS 22                \n",
      "17  CREW DRAGON 5              \n",
      "18  CSS (MENGTIAN)             \n",
      "19  CYGNUS NG-18               \n",
      "20  TIANZHOU-5                 \n",
      "21  SHENZHOU-15                \n",
      "22  1998-067UL                 \n",
      "23  1998-067UM                 \n",
      "24  1998-067UN                 \n",
      "25  1998-067UP                 \n",
      "26  XW-4 (CAS-10)              \n",
      "27  MARIO                      \n",
      "28  NUTSAT                     \n",
      "29  LORIS                      \n",
      "30  ORCASAT                    \n",
      "31  TJREVERB                   \n",
      "32  SPORT                      \n",
      "33  PETITSAT                   \n",
      "34  SS-1                       \n",
      "35  HSKSAT                     \n",
      "36  OPTIMAL-1                  \n",
      "37  ISS DEB (SPX-26 IPA FSE)   \n",
      "38  PROGRESS-MS 22             \n",
      "39  SOYUZ-MS 23                \n",
      "40  SL-4 R/B                   \n",
      "\n",
      "                                                line1  \\\n",
      "0   1 25544U 98067A   23055.36715531  .00017001  0...   \n",
      "1   1 43556U 18046C   23055.30616910  .00104379  0...   \n",
      "2   1 43557U 18046D   23054.99615263  .00057067  0...   \n",
      "3   1 45265U 98067RJ  23054.83215929  .00287185  4...   \n",
      "4   1 47853U 98067RZ  23054.49616732  .00025833  0...   \n",
      "5   1 47976U 98067SJ  23055.27168209  .00201639  0...   \n",
      "6   1 48274U 21035A   23055.28861563  .00016711  0...   \n",
      "7   1 49044U 21066A   23054.72618734  .00016796  0...   \n",
      "8   1 49271U 11037PF  23054.88979795 -.00001106  0...   \n",
      "9   1 52148U 98067TK  23055.28557458  .00366316  6...   \n",
      "10  1 53239U 22085A   23054.65868583  .00016786  0...   \n",
      "11  1 53462U 98067UB  23054.70581653  .00523464  1...   \n",
      "12  1 53767U 98067UE  23054.61173261  .00186231  0...   \n",
      "13  1 53768U 98067UF  23054.82586371  .00174663  0...   \n",
      "14  1 53769U 98067UG  23054.97338233  .00173640  2...   \n",
      "15  1 53772U 98067UK  23054.67332009  .01896679  3...   \n",
      "16  1 53879U 22116A   23054.72618734  .00016796  0...   \n",
      "17  1 53963U 22124A   23054.72618734  .00016796  0...   \n",
      "18  1 54216U 22143A   23054.65868583  .00016786  0...   \n",
      "19  1 54232U 22149A   23054.72618734  .00016796  0...   \n",
      "20  1 54237U 22152A   23054.65868583  .00016786  0...   \n",
      "21  1 54379U 22162A   23054.65868583  .00016786  0...   \n",
      "22  1 54534U 98067UL  23055.31401620  .00115497  0...   \n",
      "23  1 54535U 98067UM  23055.34762324  .00144695  0...   \n",
      "24  1 54536U 98067UN  23055.35071638  .00097182  0...   \n",
      "25  1 54537U 98067UP  23055.26187152  .00115255  0...   \n",
      "26  1 54816U 21035C   23055.36744775  .00425157  0...   \n",
      "27  1 55123U 98067UQ  23054.90124448  .00117401  0...   \n",
      "28  1 55124U 98067UR  23054.77363275  .00232279  0...   \n",
      "29  1 55125U 98067US  23054.74114077  .00100916  0...   \n",
      "30  1 55126U 98067UT  23054.56685262  .00082145  0...   \n",
      "31  1 55128U 98067UV  23055.33119167  .00095747  0...   \n",
      "32  1 55129U 98067UW  23054.87444944  .00045802  0...   \n",
      "33  1 55130U 98067UX  23054.84011228  .00199236  0...   \n",
      "34  1 55181U 98067UY  23054.62415897  .00120404  0...   \n",
      "35  1 55182U 98067UZ  23054.71745767  .00075487  0...   \n",
      "36  1 55183U 98067VA  23054.86103729  .00058478  0...   \n",
      "37  1 55448U 98067VB  23049.67606875  .00061720  0...   \n",
      "38  1 55560U 23018A   23054.72618734  .00016796  0...   \n",
      "39  1 55688U 23024A   23055.43966201 -.00003468  1...   \n",
      "40  1 55689U 23024B   23055.37942626 -.00003799  1...   \n",
      "\n",
      "                                                line2  \n",
      "0   2 25544  51.6387 167.3561 0005418  22.9195  99...  \n",
      "1   2 43556  51.6307  23.8082 0003431 184.7728 175...  \n",
      "2   2 43557  51.6349  36.6393 0003695 192.8285 167...  \n",
      "3   2 45265  51.6228 103.6745 0006064  32.6113 327...  \n",
      "4   2 47853  51.6386 154.4032 0000899 253.7952 106...  \n",
      "5   2 47976  51.6314 123.0888 0004985   1.1015 106...  \n",
      "6   2 48274  41.4748 124.4452 0004617 309.7127 125...  \n",
      "7   2 49044  51.6389 170.5293 0005299  20.5920 124...  \n",
      "8   2 49271  51.6374 261.1375 0934130 195.8825 161...  \n",
      "9   2 52148  51.6288 137.4494 0006276   8.8418  95...  \n",
      "10  2 53239  41.4748 128.2815 0004723 306.6360 182...  \n",
      "11  2 53462  51.6270 151.8343 0007070 357.6907   2...  \n",
      "12  2 53767  51.6308 158.7937 0003688 336.4141  23...  \n",
      "13  2 53768  51.6330 157.9816 0004354 345.4638  14...  \n",
      "14  2 53769  51.6414 150.7436 0007027 342.2603  17...  \n",
      "15  2 53772  51.6213 151.5795 0010561 350.8598   9...  \n",
      "16  2 53879  51.6389 170.5293 0005299  20.5920 124...  \n",
      "17  2 53963  51.6389 170.5293 0005299  20.5920 124...  \n",
      "18  2 54216  41.4748 128.2815 0004723 306.6360 182...  \n",
      "19  2 54232  51.6389 170.5293 0005299  20.5920 124...  \n",
      "20  2 54237  41.4748 128.2815 0004723 306.6360 182...  \n",
      "21  2 54379  41.4748 128.2815 0004723 306.6360 182...  \n",
      "22  2 54534  51.6364 164.2642 0005752  13.5748 346...  \n",
      "23  2 54535  51.6387 163.5977 0006175   4.8891  60...  \n",
      "24  2 54536  51.6417 164.3770 0005297  21.5611  43...  \n",
      "25  2 54537  51.6398 164.4782 0005375  19.4208  68...  \n",
      "26  2 54816  41.4761 117.9943 0017128  57.4910 302...  \n",
      "27  2 55123  51.6400 167.5157 0005420   0.0805   0...  \n",
      "28  2 55124  51.6364 167.4051 0008466 351.5599   8...  \n",
      "29  2 55125  51.6385 168.6907 0004365  17.0025 343...  \n",
      "30  2 55126  51.6391 169.7788 0003876  25.8174 334...  \n",
      "31  2 55128  51.6384 165.8824 0005954  24.5104 335...  \n",
      "32  2 55129  51.6396 168.8301 0003957  24.3496 335...  \n",
      "33  2 55130  51.6373 167.8503 0008417 355.1784   4...  \n",
      "34  2 55181  51.6385 169.4080 0008630 354.7152   5...  \n",
      "35  2 55182  51.6389 169.2804 0006861 352.8543   7...  \n",
      "36  2 55183  51.6398 168.7433 0005310  50.5239 309...  \n",
      "37  2 55448  51.6420 195.4020 0007106   4.4732  94...  \n",
      "38  2 55560  51.6389 170.5293 0005299  20.5920 124...  \n",
      "39  2 55688  51.6370 167.4229 0022783 343.7474 339...  \n",
      "40  2 55689  51.6648 167.7306 0021489  60.5789 307...  \n"
     ]
    },
    {
     "name": "stderr",
     "output_type": "stream",
     "text": [
      "C:\\Users\\Abhinav\\AppData\\Local\\Temp\\ipykernel_16968\\2932158325.py:2: FutureWarning: The 'delim_whitespace' keyword in pd.read_csv is deprecated and will be removed in a future version. Use ``sep='\\s+'`` instead\n",
      "  df = pd.read_csv(file_path, header=None, names=['line'], delim_whitespace=False)\n"
     ]
    }
   ],
   "source": [
    "def read_tle(file_path):\n",
    "    df = pd.read_csv(file_path, header=None, names=['line'], delim_whitespace=False)\n",
    "    df['name'] = df['line'].shift(0)\n",
    "    df['line1'] = df['line'].shift(-1)\n",
    "    df['line2'] = df['line'].shift(-2)\n",
    "    tles = df.iloc[::3, :].reset_index(drop=True)\n",
    "    return tles[['name', 'line1', 'line2']]\n",
    "tles = read_tle(\"30sats.txt\")\n",
    "print(tles)"
   ]
  },
  {
   "cell_type": "code",
   "execution_count": 32,
   "id": "e534f0f4-1b1f-4173-9ca5-0cbdb18d3f84",
   "metadata": {},
   "outputs": [],
   "source": [
    "def compute_positions_and_velocities(tle, start_date, duration_minutes):\n",
    "    satellite = Satrec.twoline2rv(tle['line1'], tle['line2'])\n",
    "    times = [start_date + datetime.timedelta(minutes=minute) for minute in range(duration_minutes)]\n",
    "    data = []\n",
    "    for time in times:\n",
    "        jd, fr = jday(time.year, time.month, time.day, time.hour, time.minute, time.second)\n",
    "        e, r, v = satellite.sgp4(jd, fr)\n",
    "        if e == 0:\n",
    "            data.append([time, r[0], r[1], r[2], v[0], v[1], v[2]])\n",
    "    df = pd.DataFrame(data, columns=['time', 'L(x)', 'L(y)', 'L(z)', 'V(x)', 'V(y)', 'V(z)'])\n",
    "    return df"
   ]
  },
  {
   "cell_type": "code",
   "execution_count": 40,
   "id": "0e278afd-1ddc-4a41-9968-100b0b65731f",
   "metadata": {},
   "outputs": [
    {
     "name": "stdout",
     "output_type": "stream",
     "text": [
      "0       ISS (ZARYA)             \n",
      "1       ISS (ZARYA)             \n",
      "2       ISS (ZARYA)             \n",
      "3       ISS (ZARYA)             \n",
      "4       ISS (ZARYA)             \n",
      "                  ...           \n",
      "1435    SL-4 R/B                \n",
      "1436    SL-4 R/B                \n",
      "1437    SL-4 R/B                \n",
      "1438    SL-4 R/B                \n",
      "1439    SL-4 R/B                \n",
      "Name: name, Length: 59040, dtype: object\n",
      "Results saved to positions_velocities.csv\n"
     ]
    }
   ],
   "source": [
    "# Main code\n",
    "start_date = datetime.datetime(2023, 2, 24, 0, 0, 0)  # Example start date\n",
    "duration_minutes = 24 * 60  # One hr\n",
    "\n",
    "all_results = []\n",
    "for _, tle in tles.iterrows():\n",
    "    df = compute_positions_and_velocities(tle, start_date, duration_minutes)\n",
    "    df['name'] = tle['name']\n",
    "    all_results.append(df)\n",
    "\n",
    "# Concatenate all results into a single DataFrame\n",
    "final_df = pd.concat(all_results, ignore_index=False)\n",
    "print(final_df['name'])\n",
    "# Save results to a file\n",
    "output_file = 'positions_velocities.csv'\n",
    "#final_df.to_csv(output_file, index=False)\n",
    "\n",
    "print(f'Results saved to {output_file}')"
   ]
  },
  {
   "cell_type": "code",
   "execution_count": null,
   "id": "9fd114c3-4416-4316-889d-7ce426937ef9",
   "metadata": {},
   "outputs": [],
   "source": [
    "def ecef2lla(i, pos_x, pos_y, pos_z):\n",
    "ecef = pyproj.Proj(proj=\"geocent\", ellps=\"WGS84\", datum=\"WGS84\")\n",
    "lla = pyproj.Proj(proj=\"latlong\", ellps=\"WGS84\", datum=\"WGS84\")\n",
    "lona, lata, alta = pyproj.transform(ecef, lla, pos_x[i], pos_y[i], pos_z[i], radians=False)\n",
    "return lona, lata, alta"
   ]
  },
  {
   "cell_type": "code",
   "execution_count": null,
   "id": "c92739ea-720f-494c-abb8-c454349dc866",
   "metadata": {},
   "outputs": [],
   "source": []
  },
  {
   "cell_type": "code",
   "execution_count": null,
   "id": "deb426e7-9cce-40bb-bc37-28d4f15e75fe",
   "metadata": {},
   "outputs": [],
   "source": []
  }
 ],
 "metadata": {
  "kernelspec": {
   "display_name": "Python 3 (ipykernel)",
   "language": "python",
   "name": "python3"
  },
  "language_info": {
   "codemirror_mode": {
    "name": "ipython",
    "version": 3
   },
   "file_extension": ".py",
   "mimetype": "text/x-python",
   "name": "python",
   "nbconvert_exporter": "python",
   "pygments_lexer": "ipython3",
   "version": "3.12.1"
  }
 },
 "nbformat": 4,
 "nbformat_minor": 5
}
