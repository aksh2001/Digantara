{
 "cells": [
  {
   "cell_type": "code",
   "execution_count": 1,
   "id": "8f21248f-41ed-48fe-8d26-6f4aa4026297",
   "metadata": {},
   "outputs": [
    {
     "name": "stdout",
     "output_type": "stream",
     "text": [
      "Defaulting to user installation because normal site-packages is not writeable\n",
      "Requirement already satisfied: pip in c:\\users\\abhinav\\appdata\\roaming\\python\\python312\\site-packages (24.0)\n",
      "Defaulting to user installation because normal site-packages is not writeable\n",
      "Requirement already satisfied: sgp4 in c:\\users\\abhinav\\appdata\\roaming\\python\\python312\\site-packages (2.23)\n",
      "Defaulting to user installation because normal site-packages is not writeable\n",
      "Requirement already satisfied: pyproj in c:\\users\\abhinav\\appdata\\roaming\\python\\python312\\site-packages (3.6.1)\n",
      "Requirement already satisfied: certifi in c:\\users\\abhinav\\appdata\\roaming\\python\\python312\\site-packages (from pyproj) (2024.2.2)\n",
      "Defaulting to user installation because normal site-packages is not writeable\n",
      "Requirement already satisfied: dask in c:\\users\\abhinav\\appdata\\roaming\\python\\python312\\site-packages (2024.6.0)\n",
      "Requirement already satisfied: distributed in c:\\users\\abhinav\\appdata\\roaming\\python\\python312\\site-packages (2024.6.0)\n",
      "Requirement already satisfied: click>=8.1 in c:\\users\\abhinav\\appdata\\roaming\\python\\python312\\site-packages (from dask) (8.1.7)\n",
      "Requirement already satisfied: cloudpickle>=1.5.0 in c:\\users\\abhinav\\appdata\\roaming\\python\\python312\\site-packages (from dask) (3.0.0)\n",
      "Requirement already satisfied: fsspec>=2021.09.0 in c:\\users\\abhinav\\appdata\\roaming\\python\\python312\\site-packages (from dask) (2024.6.0)\n",
      "Requirement already satisfied: packaging>=20.0 in c:\\program files\\python312\\lib\\site-packages (from dask) (23.2)\n",
      "Requirement already satisfied: partd>=1.2.0 in c:\\users\\abhinav\\appdata\\roaming\\python\\python312\\site-packages (from dask) (1.4.2)\n",
      "Requirement already satisfied: pyyaml>=5.3.1 in c:\\users\\abhinav\\appdata\\roaming\\python\\python312\\site-packages (from dask) (6.0.1)\n",
      "Requirement already satisfied: toolz>=0.10.0 in c:\\users\\abhinav\\appdata\\roaming\\python\\python312\\site-packages (from dask) (0.12.1)\n",
      "Requirement already satisfied: jinja2>=2.10.3 in c:\\users\\abhinav\\appdata\\roaming\\python\\python312\\site-packages (from distributed) (3.1.4)\n",
      "Requirement already satisfied: locket>=1.0.0 in c:\\users\\abhinav\\appdata\\roaming\\python\\python312\\site-packages (from distributed) (1.0.0)\n",
      "Requirement already satisfied: msgpack>=1.0.0 in c:\\users\\abhinav\\appdata\\roaming\\python\\python312\\site-packages (from distributed) (1.0.8)\n",
      "Requirement already satisfied: psutil>=5.7.2 in c:\\users\\abhinav\\appdata\\roaming\\python\\python312\\site-packages (from distributed) (5.9.8)\n",
      "Requirement already satisfied: sortedcontainers>=2.0.5 in c:\\users\\abhinav\\appdata\\roaming\\python\\python312\\site-packages (from distributed) (2.4.0)\n",
      "Requirement already satisfied: tblib>=1.6.0 in c:\\users\\abhinav\\appdata\\roaming\\python\\python312\\site-packages (from distributed) (3.0.0)\n",
      "Requirement already satisfied: tornado>=6.0.4 in c:\\users\\abhinav\\appdata\\roaming\\python\\python312\\site-packages (from distributed) (6.4)\n",
      "Requirement already satisfied: urllib3>=1.24.3 in c:\\users\\abhinav\\appdata\\roaming\\python\\python312\\site-packages (from distributed) (2.2.1)\n",
      "Requirement already satisfied: zict>=3.0.0 in c:\\users\\abhinav\\appdata\\roaming\\python\\python312\\site-packages (from distributed) (3.0.0)\n",
      "Requirement already satisfied: colorama in c:\\users\\abhinav\\appdata\\roaming\\python\\python312\\site-packages (from click>=8.1->dask) (0.4.6)\n",
      "Requirement already satisfied: MarkupSafe>=2.0 in c:\\users\\abhinav\\appdata\\roaming\\python\\python312\\site-packages (from jinja2>=2.10.3->distributed) (2.1.5)\n"
     ]
    }
   ],
   "source": [
    "!python.exe -m pip install --upgrade pip\n",
    "!pip install sgp4\n",
    "!pip install pyproj\n",
    "!pip install dask distributed"
   ]
  },
  {
   "cell_type": "code",
   "execution_count": 17,
   "id": "b5ce8e36-78a8-48ea-9a7b-646b5f115335",
   "metadata": {},
   "outputs": [
    {
     "name": "stdout",
     "output_type": "stream",
     "text": [
      "True\n"
     ]
    }
   ],
   "source": [
    "from sgp4.api import accelerated\n",
    "print(accelerated)"
   ]
  },
  {
   "cell_type": "code",
   "execution_count": 18,
   "id": "dd86543f-d815-4914-9231-9fec34c95037",
   "metadata": {},
   "outputs": [],
   "source": [
    "import numpy as np\n",
    "import dask.bag as db\n",
    "import pyproj\n",
    "from dask.distributed import Client\n",
    "from sgp4.api import Satrec, WGS72\n",
    "from sgp4.api import jday\n",
    "from datetime import datetime, timedelta"
   ]
  },
  {
   "cell_type": "code",
   "execution_count": 16,
   "id": "4c58138d-1aaf-4933-a343-39926c75f310",
   "metadata": {},
   "outputs": [
    {
     "name": "stdout",
     "output_type": "stream",
     "text": [
      "<Client: 'tcp://127.0.0.1:57089' processes=16 threads=16, memory=7.45 GiB>\n"
     ]
    }
   ],
   "source": [
    "# Initialize Dask client with memory limits and more workers\n",
    "client = Client(n_workers=16, threads_per_worker=1, memory_limit='0.5GB')  # This will start a local Dask scheduler and worker\n",
    "print(client)"
   ]
  },
  {
   "cell_type": "code",
   "execution_count": 19,
   "id": "d918e6a5-c1d3-4050-b294-70f0747e0f51",
   "metadata": {},
   "outputs": [
    {
     "name": "stdout",
     "output_type": "stream",
     "text": [
      "['AEROCUBE 12A', '1 43556U 18046C   23055.30616910  .00104379  00000+0  13224-2 0  9990', '2 43556  51.6307  23.8082 0003431 184.7728 175.3232 15.58641168258270']\n"
     ]
    }
   ],
   "source": [
    "def load_tle_data(tle_file):\n",
    "    satellites = []\n",
    "    with open(tle_file, 'r') as file:\n",
    "        lines = file.readlines()\n",
    "        for i in range(0, len(lines), 3):\n",
    "            name = lines[i].strip()\n",
    "            line1 = lines[i+1].strip()\n",
    "            line2 = lines[i+2].strip()\n",
    "            satellites.append([name, line1, line2])\n",
    "    return satellites\n",
    "print(load_tle_data('30sats.txt')[1])"
   ]
  },
  {
   "cell_type": "code",
   "execution_count": 20,
   "id": "bb174501-f81d-456a-8510-8fee0e02fab1",
   "metadata": {},
   "outputs": [
    {
     "name": "stdout",
     "output_type": "stream",
     "text": [
      "[]\n"
     ]
    }
   ],
   "source": [
    "def get_satellite_position(satellite, times):\n",
    "    positions = []\n",
    "    sat = Satrec.twoline2rv(satellite[1], satellite[2], WGS72)\n",
    "    for t in times:\n",
    "        jd, fr = jday(2024, 6, 10, 0, 0, 0 + t / 1440.0 * 24)\n",
    "        e, r, v = sat.sgp4(jd, fr)\n",
    "        if e == 0:\n",
    "            positions.append((t, r, v))\n",
    "            # print(positions)\n",
    "    return positions\n",
    "sat1 = get_satellite_position(load_tle_data('30sats.txt')[1], [0]) \n",
    "print(sat1)"
   ]
  },
  {
   "cell_type": "code",
   "execution_count": 21,
   "id": "e534f0f4-1b1f-4173-9ca5-0cbdb18d3f84",
   "metadata": {},
   "outputs": [],
   "source": [
    "def ecef2lla(pos_x, pos_y, pos_z):\n",
    "    ecef = pyproj.Proj(proj=\"geocent\", ellps=\"WGS84\", datum=\"WGS84\")\n",
    "    lla = pyproj.Proj(proj=\"latlong\", ellps=\"WGS84\", datum=\"WGS84\")\n",
    "    lona, lata, alta = pyproj.transform(ecef, lla, pos_x, pos_y, pos_z, radians=False)\n",
    "    return lona, lata, alta"
   ]
  },
  {
   "cell_type": "code",
   "execution_count": 22,
   "id": "e24f41fb-de25-43e8-8d70-994aff688d66",
   "metadata": {},
   "outputs": [],
   "source": [
    "def process_satellite(sat, times):\n",
    "    positions = get_satellite_position(sat, times)\n",
    "    pos_array = np.array(positions, dtype=object)\n",
    "    # Debugging print statement to check pos_array shape\n",
    "    print(f\"pos_array shape: {pos_array.shape}\")\n",
    "    lx = []\n",
    "    ly = []\n",
    "    lz = []\n",
    "    try :\n",
    "        for l in pos_array[:, 1]:\n",
    "            lx.append(l[0])\n",
    "            ly.append(l[1])\n",
    "            lz.append(l[2])\n",
    "    except IndexError:\n",
    "        return []\n",
    "    lon, lat, alt = ecef2lla(lx, ly, lz)\n",
    "    return [lon, lat, alt]"
   ]
  },
  {
   "cell_type": "code",
   "execution_count": 23,
   "id": "c92739ea-720f-494c-abb8-c454349dc866",
   "metadata": {},
   "outputs": [],
   "source": [
    "def dask_processing(tle_file, times):\n",
    "    satellites = load_tle_data(tle_file)\n",
    "    # Optimize number of partitions based on satellite count and memory\n",
    "    bag = db.from_sequence(satellites, npartitions=200).map(lambda sat: process_satellite(sat, times))\n",
    "    return bag.compute()"
   ]
  },
  {
   "cell_type": "code",
   "execution_count": 24,
   "id": "deb426e7-9cce-40bb-bc37-28d4f15e75fe",
   "metadata": {},
   "outputs": [],
   "source": [
    "def in_region(lat, lon, region_coords):\n",
    "    return (region_coords[0][0] <= lat <= region_coords[1][0] and\n",
    "            region_coords[2][1] <= lon <= region_coords[3][1])\n",
    "\n",
    "def filter_positions(positions, region_coords):\n",
    "    return [pos for pos in positions if in_region(pos[8], pos[7], region_coords)]\n"
   ]
  },
  {
   "cell_type": "code",
   "execution_count": 26,
   "id": "0fea423b-ae43-48bf-85e9-9824478ce688",
   "metadata": {
    "scrolled": true
   },
   "outputs": [
    {
     "name": "stdout",
     "output_type": "stream",
     "text": [
      "Number of satellites in region: 8450\n",
      "--- 32.603928327560425 seconds ---\n"
     ]
    }
   ],
   "source": [
    "import time\n",
    "start_time = time.time()\n",
    "\n",
    "if __name__ == \"__main__\":\n",
    "    tle_file = '30000sats.txt'\n",
    "    times = np.arange(0, 1440)  # One minute intervals for one day\n",
    "    region_coords = [(16.66673, 103.58196), (69.74973, -120.64459), (-21.09096, -119.71009), (-31.32309, -147.79778)]\n",
    "    results = dask_processing(tle_file, times)\n",
    "    filtered_results = [filter_positions(res, region_coords) for res in results]\n",
    "\n",
    "    print(f\"Number of satellites in region: {len(filtered_results)}\")\n",
    "print(\"--- %s seconds ---\" % (time.time() - start_time))\n"
   ]
  }
 ],
 "metadata": {
  "kernelspec": {
   "display_name": "Python 3 (ipykernel)",
   "language": "python",
   "name": "python3"
  },
  "language_info": {
   "codemirror_mode": {
    "name": "ipython",
    "version": 3
   },
   "file_extension": ".py",
   "mimetype": "text/x-python",
   "name": "python",
   "nbconvert_exporter": "python",
   "pygments_lexer": "ipython3",
   "version": "3.12.1"
  }
 },
 "nbformat": 4,
 "nbformat_minor": 5
}
